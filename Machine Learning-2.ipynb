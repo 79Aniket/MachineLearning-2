{
 "cells": [
  {
   "cell_type": "markdown",
   "id": "8be45d44-7c36-4666-a846-434c38f276e2",
   "metadata": {},
   "source": [
    "##  Q1: Define overfitting and underfitting in machine learning. What are the consequences of each, and how\n",
    "## can they be mitigated?"
   ]
  },
  {
   "cell_type": "markdown",
   "id": "edd801b7-354b-4952-8e03-9e8fdd25d7d2",
   "metadata": {},
   "source": [
    "## underfittin = Underfit models experience high bias—they give inaccurate results for both the training data and test set. On the other hand, overfit models experience high variance—they give accurate results for the training set but not for the test set. More model training results in less bias but variance can increase.\n",
    "\n",
    "## Overfitting occurs when our machine learning model tries to cover all the data points or more than the required data points present in the given dataset. Because of this, the model starts caching noise and inaccurate values present in the dataset, and all these factors reduce the efficiency and accuracy of the model. The overfitted model has low bias and high variance."
   ]
  },
  {
   "cell_type": "code",
   "execution_count": null,
   "id": "6e28f9f1-eace-4d87-b7dd-a71cc98d2c3e",
   "metadata": {},
   "outputs": [],
   "source": []
  },
  {
   "cell_type": "markdown",
   "id": "464915f3-81ba-4168-bf89-414702457738",
   "metadata": {},
   "source": [
    "## Q2: How can we reduce overfitting? Explain in brief."
   ]
  },
  {
   "cell_type": "markdown",
   "id": "54d53e73-ca14-4fbf-97e2-bbfcf51db78b",
   "metadata": {},
   "source": [
    "### Overfitting is a problem in machine learning that occurs when a model learns the training data too well and as a result, does not generalize well to new data. This can happen when the model is too complex or when there is not enough training data.\n",
    "\n",
    "## Data augmentation\n",
    "## Regularization\n",
    "## Early stopping"
   ]
  },
  {
   "cell_type": "code",
   "execution_count": null,
   "id": "02fe0b19-98e3-4fa6-b67a-1e25b6cc45ce",
   "metadata": {},
   "outputs": [],
   "source": []
  },
  {
   "cell_type": "markdown",
   "id": "7502f3bb-d9fc-45f2-b106-ce8a90ded65a",
   "metadata": {},
   "source": [
    "## Q3: Explain underfitting. List scenarios where underfitting can occur in ML."
   ]
  },
  {
   "cell_type": "markdown",
   "id": "3b745fcb-2d04-478e-a289-67092358ac7e",
   "metadata": {},
   "source": [
    "## Underfitting is a scenario in data science where a data model is unable to capture the relationship between the input and output variables accurately, generating a high error rate on both the training set and unseen data.\n",
    "\n",
    "## Using a more complex model.\n",
    "## Increasing the size of the training dataset.\n",
    "## Training the model for more epochs.\n",
    "## Using less regularization."
   ]
  },
  {
   "cell_type": "markdown",
   "id": "8f335a92-976d-452b-b9ec-454ab3f2e9c4",
   "metadata": {},
   "source": []
  },
  {
   "cell_type": "markdown",
   "id": "f9ae6b2c-8580-4aae-baaa-eaaf5b941a15",
   "metadata": {},
   "source": [
    "## Q4: Explain the bias-variance tradeoff in machine learning. What is the relationship between bias and\n",
    "## variance, and how do they affect model performance?"
   ]
  },
  {
   "cell_type": "markdown",
   "id": "c93ba927-ab2e-4edb-a176-368786a274cf",
   "metadata": {},
   "source": [
    "## Bias Variance Tradeoff\n",
    "## If the algorithm is too simple (hypothesis with linear equation) then it may be on high bias and low variance condition and thus is error-prone. If algorithms fit too complex (hypothesis with high degree equation) then it may be on high variance and low bias.\n",
    "\n"
   ]
  },
  {
   "cell_type": "code",
   "execution_count": null,
   "id": "3c480db5-b0ae-41e5-a7de-40427368bd2e",
   "metadata": {},
   "outputs": [],
   "source": []
  },
  {
   "cell_type": "markdown",
   "id": "08bc2fe1-07a6-4444-89fd-3ded6ac0285d",
   "metadata": {},
   "source": [
    "## Q6: Compare and contrast bias and variance in machine learning. What are some examples of high bias\n",
    "## and high variance models, and how do they differ in terms of their performance?"
   ]
  },
  {
   "cell_type": "markdown",
   "id": "d3349662-26d2-418e-a983-dad29a979ae1",
   "metadata": {},
   "source": [
    "## Bias : Bias refers to the difference between predicted values and actual values.\n",
    "## Variance : Variance says about how much a random variable deviates from its expected value.\n",
    "\n",
    "## High bias, high variance: Aiming off the target and being inconsistent\n"
   ]
  },
  {
   "cell_type": "code",
   "execution_count": null,
   "id": "295a792f-8f2a-4d1f-b2a2-455571fe3f48",
   "metadata": {},
   "outputs": [],
   "source": []
  },
  {
   "cell_type": "markdown",
   "id": "6b7192eb-2b4a-484f-bc09-74f961e8fc92",
   "metadata": {},
   "source": [
    "## Q7: What is regularization in machine learning, and how can it be used to prevent overfitting? Describe\n",
    "## some common regularization techniques and how they work."
   ]
  },
  {
   "cell_type": "markdown",
   "id": "3c9e1ff8-5773-457e-abc9-f2993426930e",
   "metadata": {},
   "source": [
    "## Regularization refers to techniques that are used to calibrate machine learning models in order to minimize the adjusted loss function and prevent overfitting or underfitting.\n",
    "\n",
    "## Using Regularization, we can fit our machine learning model appropriately on a given test set and hence reduce the errors in it. \n",
    "\n",
    "## There are two main types of regularization techniques: Ridge Regularization and Lasso Regularization.\n"
   ]
  },
  {
   "cell_type": "code",
   "execution_count": null,
   "id": "b08578e9-dfb4-4e91-afbe-49bb626e98f6",
   "metadata": {},
   "outputs": [],
   "source": []
  }
 ],
 "metadata": {
  "kernelspec": {
   "display_name": "Python 3 (ipykernel)",
   "language": "python",
   "name": "python3"
  },
  "language_info": {
   "codemirror_mode": {
    "name": "ipython",
    "version": 3
   },
   "file_extension": ".py",
   "mimetype": "text/x-python",
   "name": "python",
   "nbconvert_exporter": "python",
   "pygments_lexer": "ipython3",
   "version": "3.10.8"
  }
 },
 "nbformat": 4,
 "nbformat_minor": 5
}
